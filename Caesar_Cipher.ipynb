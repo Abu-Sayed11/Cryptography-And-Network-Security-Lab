{
 "cells": [
  {
   "cell_type": "markdown",
   "id": "46e27508",
   "metadata": {},
   "source": [
    "## **Caesar Cipher**"
   ]
  },
  {
   "cell_type": "markdown",
   "id": "0ef79167",
   "metadata": {},
   "source": [
    "### **● Suppose you are given a line of text as a plaintext, find out the corresponding Caesar Cipher. Then perform the reverse operation to get original plaintext.**"
   ]
  },
  {
   "cell_type": "markdown",
   "id": "fa5d16db",
   "metadata": {},
   "source": [
    "### **Encrypted Function**"
   ]
  },
  {
   "cell_type": "code",
   "execution_count": 3,
   "id": "e1776b91",
   "metadata": {},
   "outputs": [],
   "source": [
    "def encrypt(plain_text):\n",
    "    cipher_text = \"\"\n",
    "\n",
    "    for ch in plain_text:\n",
    "        if ch.isalpha():\n",
    "            ch = chr(ord(ch) + 3)\n",
    "            if ch.isalpha() != True:\n",
    "                ch = chr(ord(ch) - 26)\n",
    "        cipher_text += ch\n",
    "    \n",
    "    return cipher_text"
   ]
  },
  {
   "cell_type": "markdown",
   "id": "c5fc061f",
   "metadata": {},
   "source": [
    "### **Decrypted Function**"
   ]
  },
  {
   "cell_type": "code",
   "execution_count": 4,
   "id": "c63d6542",
   "metadata": {},
   "outputs": [],
   "source": [
    "def decrypt(cipher_text):\n",
    "    plain_text = \"\"\n",
    "\n",
    "    for ch in cipher_text:\n",
    "        if ch.isalpha():\n",
    "            ch = chr(ord(ch) - 3)\n",
    "            if ch.isalpha() != True:\n",
    "                ch = chr(ord(ch) + 26)\n",
    "        plain_text += ch\n",
    "\n",
    "    return plain_text"
   ]
  },
  {
   "cell_type": "markdown",
   "id": "1432b8b9",
   "metadata": {},
   "source": [
    "### **Performing Encryption & Decryption using Caesar Cipher**"
   ]
  },
  {
   "cell_type": "code",
   "execution_count": 5,
   "id": "215c5981",
   "metadata": {},
   "outputs": [
    {
     "name": "stdout",
     "output_type": "stream",
     "text": [
      "Plain Text: RuCse44 x @101\n",
      "Encrypted Text: UxFvh44 a @101\n",
      "Decrypted Text: RuCse44 x @101\n"
     ]
    }
   ],
   "source": [
    "plain_text = \"RuCse44 x @101\"\n",
    "cipher_text = encrypt(plain_text)\n",
    "decrypted_text = decrypt(cipher_text)\n",
    "\n",
    "print(f\"Plain Text: {plain_text}\")\n",
    "print(f\"Encrypted Text: {cipher_text}\")\n",
    "print(f\"Decrypted Text: {decrypted_text}\")"
   ]
  }
 ],
 "metadata": {
  "kernelspec": {
   "display_name": "Python 3",
   "language": "python",
   "name": "python3"
  },
  "language_info": {
   "codemirror_mode": {
    "name": "ipython",
    "version": 3
   },
   "file_extension": ".py",
   "mimetype": "text/x-python",
   "name": "python",
   "nbconvert_exporter": "python",
   "pygments_lexer": "ipython3",
   "version": "3.12.3"
  }
 },
 "nbformat": 4,
 "nbformat_minor": 5
}
